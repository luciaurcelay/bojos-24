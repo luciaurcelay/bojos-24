{
 "cells": [
  {
   "cell_type": "markdown",
   "metadata": {},
   "source": [
    "# LFW Dataset\n",
    "Labelled faces in the wild, o LFW, és un dataset de reconeixement facial, amb imatges de personalitats com Bush (pare i fill), Chávez i d'altres famosos.\n",
    "\n",
    "Podeu entrenar una xarxa neuronal per resoldre'l?\n",
    "\n",
    "Resoldrem el problema només per aquelles persones de les quals tinguem més de 70 imatges (hi ha algunes que només en tenen una).\n",
    "\n",
    "Com que no ens donen el test set fet, haurem de crear-lo nosaltres (fent un train-test split). Us donem el codi de càrrega del dataset, així com la partició.\n",
    "\n",
    "Bona sort!"
   ]
  },
  {
   "cell_type": "code",
   "execution_count": 1,
   "metadata": {},
   "outputs": [
    {
     "name": "stderr",
     "output_type": "stream",
     "text": [
      "2022-02-21 18:45:14.556003: W tensorflow/stream_executor/platform/default/dso_loader.cc:64] Could not load dynamic library 'libcudart.so.11.0'; dlerror: libcudart.so.11.0: cannot open shared object file: No such file or directory\n",
      "2022-02-21 18:45:14.556042: I tensorflow/stream_executor/cuda/cudart_stub.cc:29] Ignore above cudart dlerror if you do not have a GPU set up on your machine.\n"
     ]
    }
   ],
   "source": [
    "from sklearn.model_selection import train_test_split\n",
    "from sklearn.datasets import fetch_lfw_people\n",
    "\n",
    "from tensorflow.python.keras import backend as K\n",
    "\n",
    "from matplotlib import pyplot as plt\n",
    "\n",
    "import numpy as np"
   ]
  },
  {
   "cell_type": "code",
   "execution_count": 9,
   "metadata": {},
   "outputs": [
    {
     "name": "stdout",
     "output_type": "stream",
     "text": [
      "Numero d'imatges: 1288\n",
      "Numero de classes: 7\n"
     ]
    }
   ],
   "source": [
    "lfw_people = fetch_lfw_people(min_faces_per_person=70, resize=0.4, data_home=\"~/.keras/datasets\", download_if_missing=False)\n",
    "x = lfw_people.images\n",
    "y = lfw_people.target\n",
    "\n",
    "names = lfw_people['target_names']\n",
    "\n",
    "n_samples, img_rows, img_cols = x.shape\n",
    "channels = 1\n",
    "n_clases = len(np.unique(y))\n",
    "\n",
    "print(\"Numero d'imatges:\", n_samples)\n",
    "# print(\"Resolució:({w}*{h})\".format(w=w,h=h))\n",
    "print(\"Numero de classes:\", n_clases)\n",
    "\n",
    "x_train, x_test, y_train, y_test = train_test_split(x, y, test_size=0.25, random_state=42)"
   ]
  },
  {
   "cell_type": "markdown",
   "metadata": {},
   "source": [
    "Això és una mostra de com són les imatges:"
   ]
  },
  {
   "cell_type": "code",
   "execution_count": 3,
   "metadata": {},
   "outputs": [
    {
     "data": {
      "image/png": "[encoded data removed]",
      "text/plain": [
       "<Figure size 432x288 with 1 Axes>"
      ]
     },
     "metadata": {
      "needs_background": "light"
     },
     "output_type": "display_data"
    }
   ],
   "source": [
    "index = 486\n",
    "plt.imshow(x_train[index],cmap='gray')\n",
    "plt.title(names[y_train[index]]);"
   ]
  },
  {
   "cell_type": "markdown",
   "metadata": {},
   "source": [
    "Hem deixat com a mostra un model similar a l'utilitzat al CIFAR.\n",
    "\n",
    "Per poder utilitzar-ho necessitem transformar les imatges i els seus labels a un format compatible amb keras."
   ]
  },
  {
   "cell_type": "code",
   "execution_count": 4,
   "metadata": {},
   "outputs": [],
   "source": [
    "from tensorflow.python.keras.utils import to_categorical\n",
    "\n",
    "y_train = to_categorical(y_train, n_clases)\n",
    "y_test = to_categorical(y_test, n_clases)"
   ]
  },
  {
   "cell_type": "code",
   "execution_count": 5,
   "metadata": {},
   "outputs": [
    {
     "name": "stdout",
     "output_type": "stream",
     "text": [
      "(966, 50, 37, 1)\n"
     ]
    }
   ],
   "source": [
    "if K.image_data_format() == 'channels_first':\n",
    "    x_train = x_train.reshape(x_train.shape[0], channels, img_rows, img_cols)\n",
    "    x_test = x_test.reshape(x_test.shape[0], channels, img_rows, img_cols)\n",
    "    input_shape = (channels, img_rows, img_cols)\n",
    "else:\n",
    "    x_train = x_train.reshape(x_train.shape[0], img_rows, img_cols, channels)\n",
    "    x_test = x_test.reshape(x_test.shape[0], img_rows, img_cols, channels)\n",
    "    input_shape = (img_rows, img_cols, channels)\n",
    "print(x_train.shape)"
   ]
  },
  {
   "cell_type": "code",
   "execution_count": 9,
   "metadata": {},
   "outputs": [],
   "source": [
    "from tensorflow.python.keras import Sequential\n",
    "from tensorflow.python.keras.layers import Conv2D, MaxPooling2D, Flatten, Dense\n",
    "\n",
    "nn = Sequential()\n",
    "nn.add(Conv2D(filters=32, kernel_size=(2, 2), input_shape=input_shape, activation='relu', padding='same', strides=(2,2)))\n",
    "nn.add(MaxPooling2D(pool_size=(2, 2)))\n",
    "nn.add(Conv2D(16, (2, 2), activation='relu'))\n",
    "nn.add(MaxPooling2D(pool_size=(2, 2)))\n",
    "nn.add(Flatten())\n",
    "nn.add(Dense(128, activation='relu'))\n",
    "nn.add(Dense(64, activation='relu'))\n",
    "nn.add(Dense(n_clases, activation='softmax'))\n",
    "nn.compile(optimizer='sgd',loss='categorical_crossentropy',metrics=['accuracy'])"
   ]
  },
  {
   "cell_type": "code",
   "execution_count": 10,
   "metadata": {},
   "outputs": [
    {
     "name": "stdout",
     "output_type": "stream",
     "text": [
      "Epoch 1/10\n",
      "7/7 [==============================] - 1s 90ms/step - loss: 407.7575 - accuracy: 0.2889 - val_loss: 1.9613 - val_accuracy: 0.4021\n",
      "Epoch 2/10\n",
      "7/7 [==============================] - 0s 46ms/step - loss: 1.9620 - accuracy: 0.3886 - val_loss: 2.7387 - val_accuracy: 0.3402\n",
      "Epoch 3/10\n",
      "7/7 [==============================] - 0s 42ms/step - loss: 2.0734 - accuracy: 0.3795 - val_loss: 1.9248 - val_accuracy: 0.4124\n",
      "Epoch 4/10\n",
      "7/7 [==============================] - 0s 43ms/step - loss: 1.9267 - accuracy: 0.3938 - val_loss: 1.9114 - val_accuracy: 0.4124\n",
      "Epoch 5/10\n",
      "7/7 [==============================] - 0s 50ms/step - loss: 1.9112 - accuracy: 0.3938 - val_loss: 1.9007 - val_accuracy: 0.4124\n",
      "Epoch 6/10\n",
      "7/7 [==============================] - 0s 49ms/step - loss: 1.8911 - accuracy: 0.3938 - val_loss: 14.1851 - val_accuracy: 0.4124\n",
      "Epoch 7/10\n",
      "7/7 [==============================] - 0s 42ms/step - loss: 3.7073 - accuracy: 0.3938 - val_loss: 1.8948 - val_accuracy: 0.4124\n",
      "Epoch 8/10\n",
      "7/7 [==============================] - 0s 44ms/step - loss: 1.8875 - accuracy: 0.3938 - val_loss: 1.8948 - val_accuracy: 0.4124\n",
      "Epoch 9/10\n",
      "7/7 [==============================] - 0s 47ms/step - loss: 1.8772 - accuracy: 0.3938 - val_loss: 1.9001 - val_accuracy: 0.4124\n",
      "Epoch 10/10\n",
      "7/7 [==============================] - 0s 41ms/step - loss: 1.8760 - accuracy: 0.3938 - val_loss: 1.8807 - val_accuracy: 0.4124\n"
     ]
    }
   ],
   "source": [
    "nepochs=10\n",
    "history = nn.fit(x_train,y_train,batch_size=128,epochs=nepochs, validation_split=0.2)"
   ]
  },
  {
   "cell_type": "code",
   "execution_count": 11,
   "metadata": {},
   "outputs": [
    {
     "data": {
      "image/png": "[encoded data removed]",
      "text/plain": [
       "<Figure size 432x288 with 1 Axes>"
      ]
     },
     "metadata": {
      "needs_background": "light"
     },
     "output_type": "display_data"
    },
    {
     "data": {
      "image/png": "[encoded data removed]",
      "text/plain": [
       "<Figure size 432x288 with 1 Axes>"
      ]
     },
     "metadata": {
      "needs_background": "light"
     },
     "output_type": "display_data"
    }
   ],
   "source": [
    "acc_plot = plt.figure(1)\n",
    "plt.plot(history.history['acc'])\n",
    "plt.plot(history.history['val_acc'])\n",
    "plt.title('model accuracy');\n",
    "plt.ylabel('accuracy');\n",
    "plt.xlabel('epoch');\n",
    "plt.xticks([x for x in range(nepochs)], [x+1 for x in range(nepochs)]);\n",
    "plt.legend(['train','val'], loc='upper left');\n",
    "plt.show()\n",
    "\n",
    "loss_plot = plt.figure(2)\n",
    "plt.plot(history.history['loss'])\n",
    "plt.plot(history.history['val_loss'])\n",
    "plt.title('model loss');\n",
    "plt.ylabel('loss');\n",
    "plt.xlabel('epoch');\n",
    "plt.xticks([x for x in range(nepochs)], [x+1 for x in range(nepochs)]);\n",
    "plt.legend(['train','val'], loc='upper left');\n",
    "plt.show()"
   ]
  }
 ],
 "metadata": {
  "kernelspec": {
   "display_name": "Python 3 (ipykernel)",
   "language": "python",
   "name": "python3"
  },
  "language_info": {
   "codemirror_mode": {
    "name": "ipython",
    "version": 3
   },
   "file_extension": ".py",
   "mimetype": "text/x-python",
   "name": "python",
   "nbconvert_exporter": "python",
   "pygments_lexer": "ipython3",
   "version": "3.7.1"
  }
 },
 "nbformat": 4,
 "nbformat_minor": 2
}
